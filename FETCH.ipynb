{
 "cells": [
  {
   "cell_type": "markdown",
   "id": "6eeaa180",
   "metadata": {},
   "source": [
    "# Fetch Rewards Coding Exercise - Data Analytics Internship"
   ]
  },
  {
   "cell_type": "markdown",
   "id": "2151d86c",
   "metadata": {},
   "source": [
    "## Thomas Lesniak\n",
    "## tjlesniak@wisc.edu\n"
   ]
  },
  {
   "cell_type": "markdown",
   "id": "eaec13e7",
   "metadata": {},
   "source": [
    "Based on my analysis of the data, I have observed that there are indications of fraudulent activities where users are submitting fake receipts to the system. For instance, I have identified instances where a single user spent an unusually large amount of money in a short period of time. In August, one user spent a total of 157,719.27, and upon further investigation, it was discovered that the most expensive item purchased was a Starbucks Iced Coffee Premium Coffee Beverage which totaled 31,005.99.\n",
    "\n",
    "To safeguard our company's interests and discourage such dishonest behavior, I recommend shifting our focus towards identifying and preventing fraudulent rewards. This could involve implementing monitoring mechanisms for high-value purchases. By proactively taking measures to prevent such fraudulent activities, we can ensure that our loyalty program remains fair and trustworthy for all users.\n",
    "\n",
    "Furthermore, the analysis reveals that the number of users scanning each month is relatively consistent with a slight increase during the holiday season in December and January. Additionally, I have provided a table below of the top 10 brands that users spent the most money on in June."
   ]
  },
  {
   "cell_type": "code",
   "execution_count": 1,
   "id": "395a75e5",
   "metadata": {},
   "outputs": [],
   "source": [
    "import pandas as pd\n",
    "import sqlite3\n",
    "import matplotlib.pyplot as plt"
   ]
  },
  {
   "cell_type": "code",
   "execution_count": 2,
   "id": "9d07c1bf",
   "metadata": {},
   "outputs": [],
   "source": [
    "#Using pandas to load each csv file into its own data frame\n",
    "receipts_df = pd.read_csv(\"receipts.csv\")\n",
    "receipt_items_df = pd.read_csv(\"receipt_items.csv\")\n",
    "brands_df = pd.read_csv(\"brands.csv\")\n",
    "users_df = pd.read_csv(\"users.csv\")"
   ]
  },
  {
   "cell_type": "code",
   "execution_count": 3,
   "id": "b628aabe",
   "metadata": {},
   "outputs": [
    {
     "data": {
      "text/plain": [
       "164"
      ]
     },
     "execution_count": 3,
     "metadata": {},
     "output_type": "execute_result"
    }
   ],
   "source": [
    "#I will be using sqlite3\n",
    "conn = sqlite3.connect('database.db')\n",
    "\n",
    "#From here I will convert the data frame to a sqlite table\n",
    "receipts_df.to_sql('receipts', conn, if_exists='replace', index=False)\n",
    "receipt_items_df.to_sql('receipt_items', conn, if_exists='replace', index=False)\n",
    "brands_df.to_sql('brands', conn, if_exists='replace', index=False)\n",
    "users_df.to_sql('users', conn, if_exists='replace', index=False)"
   ]
  },
  {
   "cell_type": "markdown",
   "id": "cf78d27a",
   "metadata": {},
   "source": [
    "## Which brand saw the most dollars spent in the month of June?"
   ]
  },
  {
   "cell_type": "markdown",
   "id": "0d16ca5d",
   "metadata": {},
   "source": [
    "### ANNIES HOMEGROWN had the most dollars spent in June with a total of 502.23"
   ]
  },
  {
   "cell_type": "code",
   "execution_count": 13,
   "id": "b486ac6a",
   "metadata": {},
   "outputs": [
    {
     "data": {
      "text/html": [
       "<div>\n",
       "<style scoped>\n",
       "    .dataframe tbody tr th:only-of-type {\n",
       "        vertical-align: middle;\n",
       "    }\n",
       "\n",
       "    .dataframe tbody tr th {\n",
       "        vertical-align: top;\n",
       "    }\n",
       "\n",
       "    .dataframe thead th {\n",
       "        text-align: right;\n",
       "    }\n",
       "</style>\n",
       "<table border=\"1\" class=\"dataframe\">\n",
       "  <thead>\n",
       "    <tr style=\"text-align: right;\">\n",
       "      <th></th>\n",
       "      <th>BRAND_CODE</th>\n",
       "      <th>total_spent</th>\n",
       "    </tr>\n",
       "  </thead>\n",
       "  <tbody>\n",
       "    <tr>\n",
       "      <th>0</th>\n",
       "      <td>ANNIES HOMEGROWN</td>\n",
       "      <td>502.23</td>\n",
       "    </tr>\n",
       "    <tr>\n",
       "      <th>1</th>\n",
       "      <td>PEPSI</td>\n",
       "      <td>479.13</td>\n",
       "    </tr>\n",
       "    <tr>\n",
       "      <th>2</th>\n",
       "      <td>COSTCO</td>\n",
       "      <td>459.61</td>\n",
       "    </tr>\n",
       "    <tr>\n",
       "      <th>3</th>\n",
       "      <td>KRAFT</td>\n",
       "      <td>379.98</td>\n",
       "    </tr>\n",
       "    <tr>\n",
       "      <th>4</th>\n",
       "      <td>GATORADE</td>\n",
       "      <td>378.59</td>\n",
       "    </tr>\n",
       "    <tr>\n",
       "      <th>5</th>\n",
       "      <td>COORS LIGHT</td>\n",
       "      <td>338.50</td>\n",
       "    </tr>\n",
       "    <tr>\n",
       "      <th>6</th>\n",
       "      <td>MILLER LITE</td>\n",
       "      <td>271.90</td>\n",
       "    </tr>\n",
       "    <tr>\n",
       "      <th>7</th>\n",
       "      <td>ATKINS</td>\n",
       "      <td>266.38</td>\n",
       "    </tr>\n",
       "    <tr>\n",
       "      <th>8</th>\n",
       "      <td>OSCAR MAYER</td>\n",
       "      <td>256.14</td>\n",
       "    </tr>\n",
       "    <tr>\n",
       "      <th>9</th>\n",
       "      <td>JIMMY DEAN</td>\n",
       "      <td>242.42</td>\n",
       "    </tr>\n",
       "  </tbody>\n",
       "</table>\n",
       "</div>"
      ],
      "text/plain": [
       "         BRAND_CODE  total_spent\n",
       "0  ANNIES HOMEGROWN       502.23\n",
       "1             PEPSI       479.13\n",
       "2            COSTCO       459.61\n",
       "3             KRAFT       379.98\n",
       "4          GATORADE       378.59\n",
       "5       COORS LIGHT       338.50\n",
       "6       MILLER LITE       271.90\n",
       "7            ATKINS       266.38\n",
       "8       OSCAR MAYER       256.14\n",
       "9        JIMMY DEAN       242.42"
      ]
     },
     "execution_count": 13,
     "metadata": {},
     "output_type": "execute_result"
    }
   ],
   "source": [
    "# Execute a SQL query\n",
    "query = \"\"\"\n",
    "SELECT b.BRAND_CODE, SUM(ri.TOTAL_FINAL_PRICE) as total_spent\n",
    "FROM receipt_items ri\n",
    "JOIN receipts r ON r.ID = ri.REWARDS_RECEIPT_ID\n",
    "JOIN brands b ON ri.BRAND_CODE = b.BRAND_CODE\n",
    "WHERE strftime('%m', r.DATE_SCANNED) = '06'\n",
    "GROUP BY b.BRAND_CODE\n",
    "ORDER BY total_spent DESC\n",
    "LIMIT 10;\n",
    "\"\"\"\n",
    "result_df = pd.read_sql_query(query, conn)\n",
    "\n",
    "# Print the result\n",
    "result_df"
   ]
  },
  {
   "cell_type": "code",
   "execution_count": 18,
   "id": "cb0728f4",
   "metadata": {},
   "outputs": [
    {
     "data": {
      "image/png": "[encoded data removed]",
      "text/plain": [
       "<Figure size 1080x720 with 1 Axes>"
      ]
     },
     "metadata": {
      "needs_background": "light"
     },
     "output_type": "display_data"
    }
   ],
   "source": [
    "plt.figure(figsize=(15, 10)) # adjust the figure size\n",
    "plt.bar(result_df['BRAND_CODE'], result_df['total_spent'])\n",
    "plt.xlabel(\"BRAND_CODE\")\n",
    "plt.ylabel('Total Spent ($)')\n",
    "plt.title('Top 10 Brand Spending in June')\n",
    "plt.xticks(range(len(result_df['BRAND_CODE'])), result_df['BRAND_CODE'], rotation=50)\n",
    "plt.show()"
   ]
  },
  {
   "cell_type": "markdown",
   "id": "7697fb95",
   "metadata": {},
   "source": [
    "## Which user spent the most money in the month of August?"
   ]
  },
  {
   "cell_type": "markdown",
   "id": "2b40730c",
   "metadata": {},
   "source": [
    "### user 609ab37f7a2e8f2f95ae968f  spent the most in August with a total of 157719.27"
   ]
  },
  {
   "cell_type": "code",
   "execution_count": 6,
   "id": "6fe8405a",
   "metadata": {},
   "outputs": [
    {
     "data": {
      "text/html": [
       "<div>\n",
       "<style scoped>\n",
       "    .dataframe tbody tr th:only-of-type {\n",
       "        vertical-align: middle;\n",
       "    }\n",
       "\n",
       "    .dataframe tbody tr th {\n",
       "        vertical-align: top;\n",
       "    }\n",
       "\n",
       "    .dataframe thead th {\n",
       "        text-align: right;\n",
       "    }\n",
       "</style>\n",
       "<table border=\"1\" class=\"dataframe\">\n",
       "  <thead>\n",
       "    <tr style=\"text-align: right;\">\n",
       "      <th></th>\n",
       "      <th>ID</th>\n",
       "      <th>total_spent</th>\n",
       "    </tr>\n",
       "  </thead>\n",
       "  <tbody>\n",
       "    <tr>\n",
       "      <th>0</th>\n",
       "      <td>609ab37f7a2e8f2f95ae968f</td>\n",
       "      <td>157719.27</td>\n",
       "    </tr>\n",
       "    <tr>\n",
       "      <th>1</th>\n",
       "      <td>5ffb49a847903912705e9a64</td>\n",
       "      <td>19512.85</td>\n",
       "    </tr>\n",
       "    <tr>\n",
       "      <th>2</th>\n",
       "      <td>607cfe881c7f7e6d7249b73a</td>\n",
       "      <td>11851.77</td>\n",
       "    </tr>\n",
       "    <tr>\n",
       "      <th>3</th>\n",
       "      <td>6032cb807d464912dab4dc1e</td>\n",
       "      <td>11261.56</td>\n",
       "    </tr>\n",
       "    <tr>\n",
       "      <th>4</th>\n",
       "      <td>610d67eb90b1714ee8a66944</td>\n",
       "      <td>8186.42</td>\n",
       "    </tr>\n",
       "    <tr>\n",
       "      <th>5</th>\n",
       "      <td>61757c3da9619d4881912d84</td>\n",
       "      <td>8084.37</td>\n",
       "    </tr>\n",
       "    <tr>\n",
       "      <th>6</th>\n",
       "      <td>6115880fa009af1799ef9104</td>\n",
       "      <td>7067.87</td>\n",
       "    </tr>\n",
       "    <tr>\n",
       "      <th>7</th>\n",
       "      <td>601769bf3dedd212c85f049b</td>\n",
       "      <td>7049.90</td>\n",
       "    </tr>\n",
       "    <tr>\n",
       "      <th>8</th>\n",
       "      <td>60b7b2011d501f6c02387b62</td>\n",
       "      <td>6515.58</td>\n",
       "    </tr>\n",
       "    <tr>\n",
       "      <th>9</th>\n",
       "      <td>607475dbdc5e904b8a919b52</td>\n",
       "      <td>6427.83</td>\n",
       "    </tr>\n",
       "  </tbody>\n",
       "</table>\n",
       "</div>"
      ],
      "text/plain": [
       "                         ID  total_spent\n",
       "0  609ab37f7a2e8f2f95ae968f    157719.27\n",
       "1  5ffb49a847903912705e9a64     19512.85\n",
       "2  607cfe881c7f7e6d7249b73a     11851.77\n",
       "3  6032cb807d464912dab4dc1e     11261.56\n",
       "4  610d67eb90b1714ee8a66944      8186.42\n",
       "5  61757c3da9619d4881912d84      8084.37\n",
       "6  6115880fa009af1799ef9104      7067.87\n",
       "7  601769bf3dedd212c85f049b      7049.90\n",
       "8  60b7b2011d501f6c02387b62      6515.58\n",
       "9  607475dbdc5e904b8a919b52      6427.83"
      ]
     },
     "execution_count": 6,
     "metadata": {},
     "output_type": "execute_result"
    }
   ],
   "source": [
    "query = \"\"\"\n",
    "SELECT u.ID, SUM(ri.TOTAL_FINAL_PRICE) as total_spent\n",
    "FROM receipts r \n",
    "JOIN users u ON r.USER_ID = u.ID\n",
    "JOIN receipt_items ri ON r.ID = ri.REWARDS_RECEIPT_ID\n",
    "WHERE strftime('%m', r.DATE_SCANNED) = '08'\n",
    "GROUP BY u.ID\n",
    "ORDER BY total_spent DESC\n",
    "LIMIT 10;\n",
    "\"\"\"\n",
    "result_df = pd.read_sql_query(query, conn)\n",
    "\n",
    "# Print the result\n",
    "result_df"
   ]
  },
  {
   "cell_type": "code",
   "execution_count": 7,
   "id": "f08165ee",
   "metadata": {},
   "outputs": [
    {
     "data": {
      "image/png": "[encoded data removed]",
      "text/plain": [
       "<Figure size 720x432 with 1 Axes>"
      ]
     },
     "metadata": {
      "needs_background": "light"
     },
     "output_type": "display_data"
    }
   ],
   "source": [
    "plt.figure(figsize=(10, 6)) # adjust the figure size\n",
    "plt.bar(result_df['ID'], result_df['total_spent'])\n",
    "plt.xlabel(\"Users\")\n",
    "plt.ylabel('Total Spent ($)')\n",
    "plt.title('Top 10 Users by Total Spend in August')\n",
    "plt.show()"
   ]
  },
  {
   "cell_type": "markdown",
   "id": "d05ccab1",
   "metadata": {},
   "source": [
    "# What user bought the most expensive item?"
   ]
  },
  {
   "cell_type": "markdown",
   "id": "bb3529ca",
   "metadata": {},
   "source": [
    "### User 617376b8a9619d488190e0b6 bought the most expensive item  31005.99"
   ]
  },
  {
   "cell_type": "code",
   "execution_count": 8,
   "id": "4d2679b5",
   "metadata": {
    "scrolled": true
   },
   "outputs": [
    {
     "data": {
      "text/html": [
       "<div>\n",
       "<style scoped>\n",
       "    .dataframe tbody tr th:only-of-type {\n",
       "        vertical-align: middle;\n",
       "    }\n",
       "\n",
       "    .dataframe tbody tr th {\n",
       "        vertical-align: top;\n",
       "    }\n",
       "\n",
       "    .dataframe thead th {\n",
       "        text-align: right;\n",
       "    }\n",
       "</style>\n",
       "<table border=\"1\" class=\"dataframe\">\n",
       "  <thead>\n",
       "    <tr style=\"text-align: right;\">\n",
       "      <th></th>\n",
       "      <th>USER_ID</th>\n",
       "      <th>max_price</th>\n",
       "    </tr>\n",
       "  </thead>\n",
       "  <tbody>\n",
       "    <tr>\n",
       "      <th>0</th>\n",
       "      <td>617376b8a9619d488190e0b6</td>\n",
       "      <td>31005.99</td>\n",
       "    </tr>\n",
       "    <tr>\n",
       "      <th>1</th>\n",
       "      <td>609ab37f7a2e8f2f95ae968f</td>\n",
       "      <td>31000.00</td>\n",
       "    </tr>\n",
       "    <tr>\n",
       "      <th>2</th>\n",
       "      <td>6032cb807d464912dab4dc1e</td>\n",
       "      <td>8700.00</td>\n",
       "    </tr>\n",
       "    <tr>\n",
       "      <th>3</th>\n",
       "      <td>61a1a19706570b5913a27b8c</td>\n",
       "      <td>8005.05</td>\n",
       "    </tr>\n",
       "    <tr>\n",
       "      <th>4</th>\n",
       "      <td>609756de547223427a2c627e</td>\n",
       "      <td>5079.28</td>\n",
       "    </tr>\n",
       "    <tr>\n",
       "      <th>5</th>\n",
       "      <td>61375682c625197c5db73602</td>\n",
       "      <td>4745.66</td>\n",
       "    </tr>\n",
       "    <tr>\n",
       "      <th>6</th>\n",
       "      <td>5ffb49a847903912705e9a64</td>\n",
       "      <td>4713.65</td>\n",
       "    </tr>\n",
       "    <tr>\n",
       "      <th>7</th>\n",
       "      <td>6006637e964bbe129c1fbe69</td>\n",
       "      <td>4267.55</td>\n",
       "    </tr>\n",
       "    <tr>\n",
       "      <th>8</th>\n",
       "      <td>61671d28d7bd1d50be050568</td>\n",
       "      <td>3747.80</td>\n",
       "    </tr>\n",
       "    <tr>\n",
       "      <th>9</th>\n",
       "      <td>61562d8cb220b85b9614d43e</td>\n",
       "      <td>3604.03</td>\n",
       "    </tr>\n",
       "  </tbody>\n",
       "</table>\n",
       "</div>"
      ],
      "text/plain": [
       "                    USER_ID  max_price\n",
       "0  617376b8a9619d488190e0b6   31005.99\n",
       "1  609ab37f7a2e8f2f95ae968f   31000.00\n",
       "2  6032cb807d464912dab4dc1e    8700.00\n",
       "3  61a1a19706570b5913a27b8c    8005.05\n",
       "4  609756de547223427a2c627e    5079.28\n",
       "5  61375682c625197c5db73602    4745.66\n",
       "6  5ffb49a847903912705e9a64    4713.65\n",
       "7  6006637e964bbe129c1fbe69    4267.55\n",
       "8  61671d28d7bd1d50be050568    3747.80\n",
       "9  61562d8cb220b85b9614d43e    3604.03"
      ]
     },
     "execution_count": 8,
     "metadata": {},
     "output_type": "execute_result"
    }
   ],
   "source": [
    "#What user bought the most expensive item?\n",
    "query = \"\"\"\n",
    "SELECT r.USER_ID, MAX(ri.TOTAL_FINAL_PRICE) AS max_price\n",
    "FROM receipts r\n",
    "JOIN receipt_items ri ON r.ID = ri.REWARDS_RECEIPT_ID\n",
    "GROUP BY r.USER_ID\n",
    "ORDER BY max_price DESC\n",
    "LIMIT 10;\n",
    "\"\"\"\n",
    "\n",
    "result_df = pd.read_sql_query(query, conn)\n",
    "\n",
    "# Print the result\n",
    "result_df"
   ]
  },
  {
   "cell_type": "code",
   "execution_count": 9,
   "id": "a598af95",
   "metadata": {},
   "outputs": [
    {
     "data": {
      "image/png": "[encoded data removed]",
      "text/plain": [
       "<Figure size 720x432 with 1 Axes>"
      ]
     },
     "metadata": {
      "needs_background": "light"
     },
     "output_type": "display_data"
    }
   ],
   "source": [
    "plt.figure(figsize=(10, 6)) # adjust the figure size\n",
    "plt.bar(result_df['USER_ID'], result_df['max_price'])\n",
    "plt.xlabel(\"Users\")\n",
    "plt.ylabel(\"Price ($)\")\n",
    "plt.title('Most expensive Items Purhcased')\n",
    "plt.show()"
   ]
  },
  {
   "cell_type": "markdown",
   "id": "e56be365",
   "metadata": {},
   "source": [
    "# What is the name of the most expensive item purchased?"
   ]
  },
  {
   "cell_type": "markdown",
   "id": "bad5aa74",
   "metadata": {},
   "source": [
    "### The most expensive item was Starbucks Iced Coffee Premium Coffee Beverage   31005.99"
   ]
  },
  {
   "cell_type": "code",
   "execution_count": 10,
   "id": "866d984f",
   "metadata": {},
   "outputs": [
    {
     "data": {
      "text/html": [
       "<div>\n",
       "<style scoped>\n",
       "    .dataframe tbody tr th:only-of-type {\n",
       "        vertical-align: middle;\n",
       "    }\n",
       "\n",
       "    .dataframe tbody tr th {\n",
       "        vertical-align: top;\n",
       "    }\n",
       "\n",
       "    .dataframe thead th {\n",
       "        text-align: right;\n",
       "    }\n",
       "</style>\n",
       "<table border=\"1\" class=\"dataframe\">\n",
       "  <thead>\n",
       "    <tr style=\"text-align: right;\">\n",
       "      <th></th>\n",
       "      <th>DESCRIPTION</th>\n",
       "      <th>max_price</th>\n",
       "    </tr>\n",
       "  </thead>\n",
       "  <tbody>\n",
       "    <tr>\n",
       "      <th>0</th>\n",
       "      <td>Starbucks Iced Coffee Premium Coffee Beverage ...</td>\n",
       "      <td>31005.99</td>\n",
       "    </tr>\n",
       "    <tr>\n",
       "      <th>1</th>\n",
       "      <td>Imperial Cashew Snack Mix</td>\n",
       "      <td>1400.00</td>\n",
       "    </tr>\n",
       "    <tr>\n",
       "      <th>2</th>\n",
       "      <td>JIMMY DEAN DELIGHTS FROZEN TURKEY SAUSAGE EGG ...</td>\n",
       "      <td>515.38</td>\n",
       "    </tr>\n",
       "    <tr>\n",
       "      <th>3</th>\n",
       "      <td>Totino's Cheesy Chicken Stuffed Nachos</td>\n",
       "      <td>510.00</td>\n",
       "    </tr>\n",
       "    <tr>\n",
       "      <th>4</th>\n",
       "      <td>ANN N VIO AAVTNAA</td>\n",
       "      <td>493.90</td>\n",
       "    </tr>\n",
       "    <tr>\n",
       "      <th>5</th>\n",
       "      <td>Scott 1000 Toilet Tissue 1 Ply 1000 Count 1 Co...</td>\n",
       "      <td>467.82</td>\n",
       "    </tr>\n",
       "    <tr>\n",
       "      <th>6</th>\n",
       "      <td>SARA LEE</td>\n",
       "      <td>400.00</td>\n",
       "    </tr>\n",
       "    <tr>\n",
       "      <th>7</th>\n",
       "      <td>Scott 1000 1 Ply 1000 Cotton Toilet Tissue Uns...</td>\n",
       "      <td>359.85</td>\n",
       "    </tr>\n",
       "    <tr>\n",
       "      <th>8</th>\n",
       "      <td>pizza</td>\n",
       "      <td>334.23</td>\n",
       "    </tr>\n",
       "    <tr>\n",
       "      <th>9</th>\n",
       "      <td>Better Homes &amp; Gardens Modern Farmhouse TV Sta...</td>\n",
       "      <td>309.00</td>\n",
       "    </tr>\n",
       "  </tbody>\n",
       "</table>\n",
       "</div>"
      ],
      "text/plain": [
       "                                         DESCRIPTION  max_price\n",
       "0  Starbucks Iced Coffee Premium Coffee Beverage ...   31005.99\n",
       "1                          Imperial Cashew Snack Mix    1400.00\n",
       "2  JIMMY DEAN DELIGHTS FROZEN TURKEY SAUSAGE EGG ...     515.38\n",
       "3             Totino's Cheesy Chicken Stuffed Nachos     510.00\n",
       "4                                  ANN N VIO AAVTNAA     493.90\n",
       "5  Scott 1000 Toilet Tissue 1 Ply 1000 Count 1 Co...     467.82\n",
       "6                                           SARA LEE     400.00\n",
       "7  Scott 1000 1 Ply 1000 Cotton Toilet Tissue Uns...     359.85\n",
       "8                                              pizza     334.23\n",
       "9  Better Homes & Gardens Modern Farmhouse TV Sta...     309.00"
      ]
     },
     "execution_count": 10,
     "metadata": {},
     "output_type": "execute_result"
    }
   ],
   "source": [
    "#What user bought the most expensive item?\n",
    "query = \"\"\"\n",
    "SELECT ri.DESCRIPTION, MAX(ri.TOTAL_FINAL_PRICE) AS max_price\n",
    "FROM receipt_items ri\n",
    "JOIN brands b ON ri.BRAND_CODE = b.BRAND_CODE\n",
    "GROUP BY ri.DESCRIPTION\n",
    "ORDER BY max_price DESC\n",
    "LIMIT 10;\n",
    "\"\"\"\n",
    "\n",
    "result_df = pd.read_sql_query(query, conn)\n",
    "\n",
    "# Print the result\n",
    "result_df"
   ]
  },
  {
   "cell_type": "markdown",
   "id": "2d0ba690",
   "metadata": {},
   "source": [
    "# How many users scanned in each month?"
   ]
  },
  {
   "cell_type": "code",
   "execution_count": 11,
   "id": "5cfb424f",
   "metadata": {},
   "outputs": [
    {
     "data": {
      "image/png": "[encoded data removed]",
      "text/plain": [
       "<Figure size 720x432 with 1 Axes>"
      ]
     },
     "metadata": {
      "needs_background": "light"
     },
     "output_type": "display_data"
    },
    {
     "data": {
      "text/html": [
       "<div>\n",
       "<style scoped>\n",
       "    .dataframe tbody tr th:only-of-type {\n",
       "        vertical-align: middle;\n",
       "    }\n",
       "\n",
       "    .dataframe tbody tr th {\n",
       "        vertical-align: top;\n",
       "    }\n",
       "\n",
       "    .dataframe thead th {\n",
       "        text-align: right;\n",
       "    }\n",
       "</style>\n",
       "<table border=\"1\" class=\"dataframe\">\n",
       "  <thead>\n",
       "    <tr style=\"text-align: right;\">\n",
       "      <th></th>\n",
       "      <th>month</th>\n",
       "      <th>num_users</th>\n",
       "    </tr>\n",
       "  </thead>\n",
       "  <tbody>\n",
       "    <tr>\n",
       "      <th>0</th>\n",
       "      <td>01</td>\n",
       "      <td>97</td>\n",
       "    </tr>\n",
       "    <tr>\n",
       "      <th>1</th>\n",
       "      <td>02</td>\n",
       "      <td>87</td>\n",
       "    </tr>\n",
       "    <tr>\n",
       "      <th>2</th>\n",
       "      <td>03</td>\n",
       "      <td>89</td>\n",
       "    </tr>\n",
       "    <tr>\n",
       "      <th>3</th>\n",
       "      <td>04</td>\n",
       "      <td>90</td>\n",
       "    </tr>\n",
       "    <tr>\n",
       "      <th>4</th>\n",
       "      <td>05</td>\n",
       "      <td>88</td>\n",
       "    </tr>\n",
       "    <tr>\n",
       "      <th>5</th>\n",
       "      <td>06</td>\n",
       "      <td>88</td>\n",
       "    </tr>\n",
       "    <tr>\n",
       "      <th>6</th>\n",
       "      <td>07</td>\n",
       "      <td>88</td>\n",
       "    </tr>\n",
       "    <tr>\n",
       "      <th>7</th>\n",
       "      <td>08</td>\n",
       "      <td>88</td>\n",
       "    </tr>\n",
       "    <tr>\n",
       "      <th>8</th>\n",
       "      <td>09</td>\n",
       "      <td>88</td>\n",
       "    </tr>\n",
       "    <tr>\n",
       "      <th>9</th>\n",
       "      <td>10</td>\n",
       "      <td>91</td>\n",
       "    </tr>\n",
       "    <tr>\n",
       "      <th>10</th>\n",
       "      <td>11</td>\n",
       "      <td>93</td>\n",
       "    </tr>\n",
       "    <tr>\n",
       "      <th>11</th>\n",
       "      <td>12</td>\n",
       "      <td>98</td>\n",
       "    </tr>\n",
       "  </tbody>\n",
       "</table>\n",
       "</div>"
      ],
      "text/plain": [
       "   month  num_users\n",
       "0     01         97\n",
       "1     02         87\n",
       "2     03         89\n",
       "3     04         90\n",
       "4     05         88\n",
       "5     06         88\n",
       "6     07         88\n",
       "7     08         88\n",
       "8     09         88\n",
       "9     10         91\n",
       "10    11         93\n",
       "11    12         98"
      ]
     },
     "execution_count": 11,
     "metadata": {},
     "output_type": "execute_result"
    }
   ],
   "source": [
    "#What user bought the most expensive item?\n",
    "query = \"\"\"\n",
    "SELECT strftime('%m', r.DATE_SCANNED) AS month, COUNT(DISTINCT r.USER_ID) AS num_users\n",
    "FROM receipts r\n",
    "GROUP BY month;\n",
    "\"\"\"\n",
    "\n",
    "result_df = pd.read_sql_query(query, conn)\n",
    "\n",
    "# Print the result\n",
    "\n",
    "\n",
    "# create a bar chart of the total_spent column\n",
    "plt.figure(figsize=(10, 6)) # adjust the figure size\n",
    "plt.bar(result_df['month'], result_df['num_users'])\n",
    "plt.xlabel('Month')\n",
    "plt.ylabel('Number of Users')\n",
    "plt.title('Number of Users Scanning in Each Month')\n",
    "plt.ylim([50, 100])\n",
    "plt.show()\n",
    "result_df"
   ]
  },
  {
   "cell_type": "code",
   "execution_count": 19,
   "id": "9dff3b68",
   "metadata": {},
   "outputs": [],
   "source": [
    "# Close the database connection\n",
    "conn.close()"
   ]
  },
  {
   "cell_type": "code",
   "execution_count": null,
   "id": "ebc6178b",
   "metadata": {},
   "outputs": [],
   "source": []
  }
 ],
 "metadata": {
  "kernelspec": {
   "display_name": "Python 3 (ipykernel)",
   "language": "python",
   "name": "python3"
  },
  "language_info": {
   "codemirror_mode": {
    "name": "ipython",
    "version": 3
   },
   "file_extension": ".py",
   "mimetype": "text/x-python",
   "name": "python",
   "nbconvert_exporter": "python",
   "pygments_lexer": "ipython3",
   "version": "3.9.12"
  }
 },
 "nbformat": 4,
 "nbformat_minor": 5
}
